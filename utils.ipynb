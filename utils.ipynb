{
 "cells": [
  {
   "cell_type": "markdown",
   "metadata": {},
   "source": [
    "# Training YOLO v5"
   ]
  },
  {
   "cell_type": "code",
   "execution_count": null,
   "metadata": {
    "vscode": {
     "languageId": "shellscript"
    }
   },
   "outputs": [],
   "source": [
    "!python3 ./yolov5/train.py --img 640 --batch 16 --epochs 200 --patience 30 --data ./data/desk.yaml --weights ./yolov5/yolov5s.pt --project ./model --name desk --cache"
   ]
  },
  {
   "cell_type": "markdown",
   "metadata": {},
   "source": [
    "# Predict"
   ]
  },
  {
   "cell_type": "code",
   "execution_count": null,
   "metadata": {
    "vscode": {
     "languageId": "shellscript"
    }
   },
   "outputs": [],
   "source": [
    "!python3 ./yolov5/detect.py --weights ./model/best.pt --source ./validation/Video/desk_2.MOV --project ./predict --name predict"
   ]
  },
  {
   "cell_type": "code",
   "execution_count": null,
   "metadata": {},
   "outputs": [],
   "source": [
    "import cv2\n",
    "import torch\n",
    "\n",
    "# model = torch.hub.load('ultralytics/yolov5', 'yolov5s', pretrained=True)\n",
    "model = torch.hub.load(\n",
    "    \"ultralytics/yolov5\", \"custom\", path=\"./yolov5/runs/train/exp2/weights/best.pt\"\n",
    ")\n",
    "\n",
    "img = cv2.imread(\"./validation/qq.png\")\n",
    "img = cv2.cvtColor(img, cv2.COLOR_BGR2RGB)\n",
    "print()\n",
    "print(\"=== START PROCESS ==============\")\n",
    "results = model(\"./validation/qq.png\")\n",
    "print(results)\n",
    "print(\"=== END PROCESS ================\")\n",
    "print(\"\")\n",
    "\n",
    "print(\"=== START POINT ================\")\n",
    "for detection in results.pred[0]:\n",
    "    print(detection)\n",
    "print(\"=== END POINT ==================\")\n",
    "\n",
    "results.show()"
   ]
  },
  {
   "cell_type": "code",
   "execution_count": null,
   "metadata": {},
   "outputs": [],
   "source": [
    "import torch\n",
    "import numpy as np\n",
    "\n",
    "# โหลดโมเดล YOLOv5 (เลือกเวอร์ชันที่ต้องการ)\n",
    "model = torch.hub.load(\"ultralytics/yolov5\", \"yolov5s\", pretrained=True)\n",
    "\n",
    "# โหลดรูปภาพ\n",
    "image_path = \"./validation/img/test.png\"\n",
    "\n",
    "# ใช้โมเดลทำการตรวจจับ\n",
    "results = model(image_path)\n",
    "\n",
    "# แสดงผลลัพธ์\n",
    "results.show()\n",
    "\n",
    "\n",
    "# for x in results.pred[0]:\n",
    "count_class_0 = len(list(filter(lambda x: x[5] == float(0), results.pred[0])))\n",
    "\n",
    "print(count_class_0)"
   ]
  },
  {
   "cell_type": "code",
   "execution_count": 45,
   "metadata": {},
   "outputs": [
    {
     "name": "stderr",
     "output_type": "stream",
     "text": [
      "qt.qpa.plugin: Could not find the Qt platform plugin \"wayland\" in \"/home/lpy/.local/lib/python3.10/site-packages/cv2/qt/plugins\"\n"
     ]
    }
   ],
   "source": [
    "import cv2\n",
    "\n",
    "# Load an image\n",
    "image = cv2.imread(\"./validation/img/test.png\")\n",
    "\n",
    "# Display the sliced portion of the image\n",
    "sliced_image = image[10:30, 10:20]\n",
    "cv2.imshow(\"Sliced Image\", sliced_image)\n",
    "cv2.waitKey(0)  # Wait for any key to be pressed\n",
    "cv2.destroyAllWindows()  # Close all OpenCV windows"
   ]
  },
  {
   "cell_type": "markdown",
   "metadata": {},
   "source": [
    "# Matched_files"
   ]
  },
  {
   "cell_type": "code",
   "execution_count": null,
   "metadata": {},
   "outputs": [],
   "source": [
    "import os\n",
    "\n",
    "img_folder = \"./data/desk/train/images\"\n",
    "label_folder = \"./data/desk/train/labels\"\n",
    "\n",
    "img_files = {\n",
    "    os.path.splitext(f)[0]\n",
    "    for f in os.listdir(img_folder)\n",
    "    if f.endswith(\".jpg\") or f.endswith(\".png\")\n",
    "}\n",
    "label_files = {\n",
    "    os.path.splitext(f)[0] for f in os.listdir(label_folder) if f.endswith(\".txt\")\n",
    "}\n",
    "\n",
    "matched_files = img_files & label_files\n",
    "unmatched_img_files = img_files - label_files\n",
    "unmatched_label_files = label_files - img_files\n",
    "\n",
    "print(\"Matched files:\", matched_files)\n",
    "print(\"Images without matching labels:\", unmatched_img_files)\n",
    "print(\"Labels without matching images:\", unmatched_label_files)\n",
    "print(\"Images\", len(img_files))\n",
    "print(\"labels\", len(img_files))"
   ]
  }
 ],
 "metadata": {
  "kernelspec": {
   "display_name": "Python 3",
   "language": "python",
   "name": "python3"
  },
  "language_info": {
   "codemirror_mode": {
    "name": "ipython",
    "version": 3
   },
   "file_extension": ".py",
   "mimetype": "text/x-python",
   "name": "python",
   "nbconvert_exporter": "python",
   "pygments_lexer": "ipython3",
   "version": "3.10.12"
  }
 },
 "nbformat": 4,
 "nbformat_minor": 2
}
